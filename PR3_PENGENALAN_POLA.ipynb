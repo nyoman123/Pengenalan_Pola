{
  "nbformat": 4,
  "nbformat_minor": 0,
  "metadata": {
    "colab": {
      "name": "PR3 PENGENALAN POLA.ipynb",
      "provenance": [],
      "collapsed_sections": []
    },
    "kernelspec": {
      "name": "python3",
      "display_name": "Python 3"
    }
  },
  "cells": [
    {
      "cell_type": "code",
      "metadata": {
        "id": "q_UYp-6KXQGP",
        "colab_type": "code",
        "colab": {
          "base_uri": "https://localhost:8080/",
          "height": 34
        },
        "outputId": "91630049-5a5f-4dc7-fa60-3b581eb04465"
      },
      "source": [
        "from google.colab import drive\n",
        "drive.mount('/content/drive')"
      ],
      "execution_count": 1,
      "outputs": [
        {
          "output_type": "stream",
          "text": [
            "Mounted at /content/drive\n"
          ],
          "name": "stdout"
        }
      ]
    },
    {
      "cell_type": "code",
      "metadata": {
        "id": "vZQPMN4dgv7O",
        "colab_type": "code",
        "colab": {
          "base_uri": "https://localhost:8080/",
          "height": 34
        },
        "outputId": "b329f089-b292-4ff0-a2fa-2e57b938c6ee"
      },
      "source": [
        "%cd /content/drive/My Drive/Colab Notebooks/PR3"
      ],
      "execution_count": 142,
      "outputs": [
        {
          "output_type": "stream",
          "text": [
            "/content/drive/My Drive/Colab Notebooks/PR3\n"
          ],
          "name": "stdout"
        }
      ]
    },
    {
      "cell_type": "code",
      "metadata": {
        "id": "kINa0SgYiD-e",
        "colab_type": "code",
        "colab": {
          "base_uri": "https://localhost:8080/",
          "height": 34
        },
        "outputId": "66eb0c41-f41d-4f8b-ed7b-50d15e1627a8"
      },
      "source": [
        "ls\n"
      ],
      "execution_count": 143,
      "outputs": [
        {
          "output_type": "stream",
          "text": [
            " dataset.csv   minimum_risk.csv  'PR3 PENGENALAN POLA.ipynb'\n"
          ],
          "name": "stdout"
        }
      ]
    },
    {
      "cell_type": "code",
      "metadata": {
        "id": "0dNFZiy8iKqY",
        "colab_type": "code",
        "colab": {}
      },
      "source": [
        "import pandas as pd\n",
        "import numpy as np"
      ],
      "execution_count": 146,
      "outputs": []
    },
    {
      "cell_type": "markdown",
      "metadata": {
        "id": "z9kh1NbLbnlN",
        "colab_type": "text"
      },
      "source": [
        "# Data format CSV untuk diagram lightness"
      ]
    },
    {
      "cell_type": "code",
      "metadata": {
        "id": "TdzJkxh3jEWc",
        "colab_type": "code",
        "colab": {
          "base_uri": "https://localhost:8080/",
          "height": 669
        },
        "outputId": "b0b49d5f-1f0f-406a-82a9-1682f1fdfa93"
      },
      "source": [
        "data=pd.read_csv('dataset.csv')\n",
        "df"
      ],
      "execution_count": 167,
      "outputs": [
        {
          "output_type": "execute_result",
          "data": {
            "text/html": [
              "<div>\n",
              "<style scoped>\n",
              "    .dataframe tbody tr th:only-of-type {\n",
              "        vertical-align: middle;\n",
              "    }\n",
              "\n",
              "    .dataframe tbody tr th {\n",
              "        vertical-align: top;\n",
              "    }\n",
              "\n",
              "    .dataframe thead th {\n",
              "        text-align: right;\n",
              "    }\n",
              "</style>\n",
              "<table border=\"1\" class=\"dataframe\">\n",
              "  <thead>\n",
              "    <tr style=\"text-align: right;\">\n",
              "      <th></th>\n",
              "      <th>lightness</th>\n",
              "      <th>countSalmon</th>\n",
              "      <th>countSeabass</th>\n",
              "    </tr>\n",
              "  </thead>\n",
              "  <tbody>\n",
              "    <tr>\n",
              "      <th>0</th>\n",
              "      <td>0-0.5</td>\n",
              "      <td>0</td>\n",
              "      <td>0</td>\n",
              "    </tr>\n",
              "    <tr>\n",
              "      <th>1</th>\n",
              "      <td>0.5-1</td>\n",
              "      <td>2</td>\n",
              "      <td>0</td>\n",
              "    </tr>\n",
              "    <tr>\n",
              "      <th>2</th>\n",
              "      <td>1-1.5</td>\n",
              "      <td>8</td>\n",
              "      <td>0</td>\n",
              "    </tr>\n",
              "    <tr>\n",
              "      <th>3</th>\n",
              "      <td>1.5-2</td>\n",
              "      <td>4</td>\n",
              "      <td>0</td>\n",
              "    </tr>\n",
              "    <tr>\n",
              "      <th>4</th>\n",
              "      <td>2-2.5</td>\n",
              "      <td>7</td>\n",
              "      <td>0</td>\n",
              "    </tr>\n",
              "    <tr>\n",
              "      <th>5</th>\n",
              "      <td>2.5-3</td>\n",
              "      <td>10</td>\n",
              "      <td>0</td>\n",
              "    </tr>\n",
              "    <tr>\n",
              "      <th>6</th>\n",
              "      <td>3-3.5</td>\n",
              "      <td>12</td>\n",
              "      <td>0</td>\n",
              "    </tr>\n",
              "    <tr>\n",
              "      <th>7</th>\n",
              "      <td>3.5-4</td>\n",
              "      <td>8</td>\n",
              "      <td>1</td>\n",
              "    </tr>\n",
              "    <tr>\n",
              "      <th>8</th>\n",
              "      <td>4-4.5</td>\n",
              "      <td>6</td>\n",
              "      <td>0</td>\n",
              "    </tr>\n",
              "    <tr>\n",
              "      <th>9</th>\n",
              "      <td>4.5-5</td>\n",
              "      <td>8</td>\n",
              "      <td>3</td>\n",
              "    </tr>\n",
              "    <tr>\n",
              "      <th>10</th>\n",
              "      <td>5-5.5</td>\n",
              "      <td>4</td>\n",
              "      <td>3</td>\n",
              "    </tr>\n",
              "    <tr>\n",
              "      <th>11</th>\n",
              "      <td>5.5-6</td>\n",
              "      <td>3</td>\n",
              "      <td>4</td>\n",
              "    </tr>\n",
              "    <tr>\n",
              "      <th>12</th>\n",
              "      <td>6-6.5</td>\n",
              "      <td>1</td>\n",
              "      <td>6</td>\n",
              "    </tr>\n",
              "    <tr>\n",
              "      <th>13</th>\n",
              "      <td>6.5-7</td>\n",
              "      <td>1</td>\n",
              "      <td>5</td>\n",
              "    </tr>\n",
              "    <tr>\n",
              "      <th>14</th>\n",
              "      <td>7-7.5</td>\n",
              "      <td>0</td>\n",
              "      <td>12</td>\n",
              "    </tr>\n",
              "    <tr>\n",
              "      <th>15</th>\n",
              "      <td>7.5-8</td>\n",
              "      <td>0</td>\n",
              "      <td>9</td>\n",
              "    </tr>\n",
              "    <tr>\n",
              "      <th>16</th>\n",
              "      <td>8-8.5</td>\n",
              "      <td>0</td>\n",
              "      <td>9</td>\n",
              "    </tr>\n",
              "    <tr>\n",
              "      <th>17</th>\n",
              "      <td>8.5-9</td>\n",
              "      <td>0</td>\n",
              "      <td>2</td>\n",
              "    </tr>\n",
              "    <tr>\n",
              "      <th>18</th>\n",
              "      <td>9-9.5</td>\n",
              "      <td>0</td>\n",
              "      <td>1</td>\n",
              "    </tr>\n",
              "    <tr>\n",
              "      <th>19</th>\n",
              "      <td>9.5-10</td>\n",
              "      <td>0</td>\n",
              "      <td>2</td>\n",
              "    </tr>\n",
              "  </tbody>\n",
              "</table>\n",
              "</div>"
            ],
            "text/plain": [
              "   lightness  countSalmon  countSeabass\n",
              "0      0-0.5            0             0\n",
              "1      0.5-1            2             0\n",
              "2      1-1.5            8             0\n",
              "3      1.5-2            4             0\n",
              "4      2-2.5            7             0\n",
              "5      2.5-3           10             0\n",
              "6      3-3.5           12             0\n",
              "7      3.5-4            8             1\n",
              "8      4-4.5            6             0\n",
              "9      4.5-5            8             3\n",
              "10     5-5.5            4             3\n",
              "11     5.5-6            3             4\n",
              "12     6-6.5            1             6\n",
              "13     6.5-7            1             5\n",
              "14     7-7.5            0            12\n",
              "15     7.5-8            0             9\n",
              "16     8-8.5            0             9\n",
              "17     8.5-9            0             2\n",
              "18     9-9.5            0             1\n",
              "19    9.5-10            0             2"
            ]
          },
          "metadata": {
            "tags": []
          },
          "execution_count": 167
        }
      ]
    },
    {
      "cell_type": "markdown",
      "metadata": {
        "id": "N2IlqrdocNU-",
        "colab_type": "text"
      },
      "source": [
        "# Implementasi perhitungan P(kelas) dan P(x|kelas) berdasarkan data "
      ]
    },
    {
      "cell_type": "code",
      "metadata": {
        "id": "qlwcbhmyq2w3",
        "colab_type": "code",
        "colab": {
          "base_uri": "https://localhost:8080/",
          "height": 85
        },
        "outputId": "49cf5035-e05c-4d1f-edcc-24c067c7c679"
      },
      "source": [
        "countSalmon=data.loc[:,'countSalmon']\n",
        "countSeabass=data.loc[:, 'countSeabass']\n",
        "jumlahSalmon=sum(countSalmon)\n",
        "jumlahSeabass= sum(countSeabass)\n",
        "print('jumlah salmon = ',jumlahSalmon)\n",
        "print('jumlah seabass = ',jumlahSeabass)\n",
        "Psalmon= jumlahSalmon/(jumlahSalmon+jumlahSeabass)\n",
        "Pseabass= jumlahSeabass/(jumlahSalmon+jumlahSeabass)\n",
        "print(\"P(w=salmon) = \", Psalmon)\n",
        "print(\"P(w=seabass) = \", Pseabass)"
      ],
      "execution_count": 168,
      "outputs": [
        {
          "output_type": "stream",
          "text": [
            "jumlah salmon =  74\n",
            "jumlah seabass =  57\n",
            "P(w=salmon) =  0.5648854961832062\n",
            "P(w=seabass) =  0.4351145038167939\n"
          ],
          "name": "stdout"
        }
      ]
    },
    {
      "cell_type": "code",
      "metadata": {
        "id": "oWbFTf9FLIZj",
        "colab_type": "code",
        "colab": {
          "base_uri": "https://localhost:8080/",
          "height": 765
        },
        "outputId": "ccd50876-e04d-4142-caa2-2e06cac3eccd"
      },
      "source": [
        "Prentang_salmon=countSalmon/jumlahSalmon\n",
        "print('P(x|w=salmon)\\n', Prentang_salmon)\n",
        "Prentang_seabass=countSeabass/jumlahSeabass\n",
        "print('P(x|w=seabass)\\n', Prentang_seabass)"
      ],
      "execution_count": 169,
      "outputs": [
        {
          "output_type": "stream",
          "text": [
            "P(x|w=salmon)\n",
            " 0     0.000000\n",
            "1     0.027027\n",
            "2     0.108108\n",
            "3     0.054054\n",
            "4     0.094595\n",
            "5     0.135135\n",
            "6     0.162162\n",
            "7     0.108108\n",
            "8     0.081081\n",
            "9     0.108108\n",
            "10    0.054054\n",
            "11    0.040541\n",
            "12    0.013514\n",
            "13    0.013514\n",
            "14    0.000000\n",
            "15    0.000000\n",
            "16    0.000000\n",
            "17    0.000000\n",
            "18    0.000000\n",
            "19    0.000000\n",
            "Name: countSalmon, dtype: float64\n",
            "P(x|w=seabass)\n",
            " 0     0.000000\n",
            "1     0.000000\n",
            "2     0.000000\n",
            "3     0.000000\n",
            "4     0.000000\n",
            "5     0.000000\n",
            "6     0.000000\n",
            "7     0.017544\n",
            "8     0.000000\n",
            "9     0.052632\n",
            "10    0.052632\n",
            "11    0.070175\n",
            "12    0.105263\n",
            "13    0.087719\n",
            "14    0.210526\n",
            "15    0.157895\n",
            "16    0.157895\n",
            "17    0.035088\n",
            "18    0.017544\n",
            "19    0.035088\n",
            "Name: countSeabass, dtype: float64\n"
          ],
          "name": "stdout"
        }
      ]
    },
    {
      "cell_type": "markdown",
      "metadata": {
        "id": "uEf3HsddfQ3P",
        "colab_type": "text"
      },
      "source": [
        "# Implementasi bayes decision rule berbasis maximum posterior probability."
      ]
    },
    {
      "cell_type": "code",
      "metadata": {
        "id": "kdmuiZ75e9yr",
        "colab_type": "code",
        "colab": {
          "base_uri": "https://localhost:8080/",
          "height": 765
        },
        "outputId": "592c7e7f-6523-4ee7-d849-957ecb9a7a0c"
      },
      "source": [
        "#Posterior conditional probability: P(ωi|x) → P(x|ωi).P(ωi)\n",
        "PosteriorSalmon= Prentang_salmon*Psalmon\n",
        "print('Posterior Salmon: \\n', PosteriorSalmon)\n",
        "PosteriorSeabass= Pseabass*Prentang_seabass\n",
        "print('Posterior Seabass: \\n', PosteriorSeabass)"
      ],
      "execution_count": 170,
      "outputs": [
        {
          "output_type": "stream",
          "text": [
            "Posterior Salmon: \n",
            " 0     0.000000\n",
            "1     0.015267\n",
            "2     0.061069\n",
            "3     0.030534\n",
            "4     0.053435\n",
            "5     0.076336\n",
            "6     0.091603\n",
            "7     0.061069\n",
            "8     0.045802\n",
            "9     0.061069\n",
            "10    0.030534\n",
            "11    0.022901\n",
            "12    0.007634\n",
            "13    0.007634\n",
            "14    0.000000\n",
            "15    0.000000\n",
            "16    0.000000\n",
            "17    0.000000\n",
            "18    0.000000\n",
            "19    0.000000\n",
            "Name: countSalmon, dtype: float64\n",
            "Posterior Seabass: \n",
            " 0     0.000000\n",
            "1     0.000000\n",
            "2     0.000000\n",
            "3     0.000000\n",
            "4     0.000000\n",
            "5     0.000000\n",
            "6     0.000000\n",
            "7     0.007634\n",
            "8     0.000000\n",
            "9     0.022901\n",
            "10    0.022901\n",
            "11    0.030534\n",
            "12    0.045802\n",
            "13    0.038168\n",
            "14    0.091603\n",
            "15    0.068702\n",
            "16    0.068702\n",
            "17    0.015267\n",
            "18    0.007634\n",
            "19    0.015267\n",
            "Name: countSeabass, dtype: float64\n"
          ],
          "name": "stdout"
        }
      ]
    },
    {
      "cell_type": "code",
      "metadata": {
        "id": "r7AVrYoxmjZG",
        "colab_type": "code",
        "colab": {
          "base_uri": "https://localhost:8080/",
          "height": 357
        },
        "outputId": "9397d830-0819-4e5d-e5c4-34703992dbb8"
      },
      "source": [
        "classIkan=[]\n",
        "for i in range(len(PosteriorSalmon)):\n",
        "  if PosteriorSalmon[i]>PosteriorSeabass[i]:\n",
        "   classIkan.append('Salmon')\n",
        "  else:\n",
        "    classIkan.append('Seabass')\n",
        "\n",
        "classIkan"
      ],
      "execution_count": 171,
      "outputs": [
        {
          "output_type": "execute_result",
          "data": {
            "text/plain": [
              "['Seabass',\n",
              " 'Salmon',\n",
              " 'Salmon',\n",
              " 'Salmon',\n",
              " 'Salmon',\n",
              " 'Salmon',\n",
              " 'Salmon',\n",
              " 'Salmon',\n",
              " 'Salmon',\n",
              " 'Salmon',\n",
              " 'Salmon',\n",
              " 'Seabass',\n",
              " 'Seabass',\n",
              " 'Seabass',\n",
              " 'Seabass',\n",
              " 'Seabass',\n",
              " 'Seabass',\n",
              " 'Seabass',\n",
              " 'Seabass',\n",
              " 'Seabass']"
            ]
          },
          "metadata": {
            "tags": []
          },
          "execution_count": 171
        }
      ]
    },
    {
      "cell_type": "code",
      "metadata": {
        "id": "8RqW8pnyn7IR",
        "colab_type": "code",
        "colab": {
          "base_uri": "https://localhost:8080/",
          "height": 669
        },
        "outputId": "20f65a66-081c-4259-ec2f-632f0f1b2694"
      },
      "source": [
        "Tabel_Klasifikasi = pd.DataFrame({\n",
        "    \"lightness\": df.lightness,\n",
        "    \"countSalmon\": df.countSalmon,\n",
        "    \"countSeabass\": df.countSeabass,\n",
        "    \"posteriorSalmon\": PosteriorSalmon,\n",
        "    \"posteriorSeabass\": PosteriorSeabass,\n",
        "    \"classIkan\": classIkan\n",
        "})\n",
        "\n",
        "Tabel_Klasifikasi"
      ],
      "execution_count": 180,
      "outputs": [
        {
          "output_type": "execute_result",
          "data": {
            "text/html": [
              "<div>\n",
              "<style scoped>\n",
              "    .dataframe tbody tr th:only-of-type {\n",
              "        vertical-align: middle;\n",
              "    }\n",
              "\n",
              "    .dataframe tbody tr th {\n",
              "        vertical-align: top;\n",
              "    }\n",
              "\n",
              "    .dataframe thead th {\n",
              "        text-align: right;\n",
              "    }\n",
              "</style>\n",
              "<table border=\"1\" class=\"dataframe\">\n",
              "  <thead>\n",
              "    <tr style=\"text-align: right;\">\n",
              "      <th></th>\n",
              "      <th>lightness</th>\n",
              "      <th>countSalmon</th>\n",
              "      <th>countSeabass</th>\n",
              "      <th>posteriorSalmon</th>\n",
              "      <th>posteriorSeabass</th>\n",
              "      <th>classIkan</th>\n",
              "    </tr>\n",
              "  </thead>\n",
              "  <tbody>\n",
              "    <tr>\n",
              "      <th>0</th>\n",
              "      <td>0-0.5</td>\n",
              "      <td>0</td>\n",
              "      <td>0</td>\n",
              "      <td>0.000000</td>\n",
              "      <td>0.000000</td>\n",
              "      <td>Seabass</td>\n",
              "    </tr>\n",
              "    <tr>\n",
              "      <th>1</th>\n",
              "      <td>0.5-1</td>\n",
              "      <td>2</td>\n",
              "      <td>0</td>\n",
              "      <td>0.015267</td>\n",
              "      <td>0.000000</td>\n",
              "      <td>Salmon</td>\n",
              "    </tr>\n",
              "    <tr>\n",
              "      <th>2</th>\n",
              "      <td>1-1.5</td>\n",
              "      <td>8</td>\n",
              "      <td>0</td>\n",
              "      <td>0.061069</td>\n",
              "      <td>0.000000</td>\n",
              "      <td>Salmon</td>\n",
              "    </tr>\n",
              "    <tr>\n",
              "      <th>3</th>\n",
              "      <td>1.5-2</td>\n",
              "      <td>4</td>\n",
              "      <td>0</td>\n",
              "      <td>0.030534</td>\n",
              "      <td>0.000000</td>\n",
              "      <td>Salmon</td>\n",
              "    </tr>\n",
              "    <tr>\n",
              "      <th>4</th>\n",
              "      <td>2-2.5</td>\n",
              "      <td>7</td>\n",
              "      <td>0</td>\n",
              "      <td>0.053435</td>\n",
              "      <td>0.000000</td>\n",
              "      <td>Salmon</td>\n",
              "    </tr>\n",
              "    <tr>\n",
              "      <th>5</th>\n",
              "      <td>2.5-3</td>\n",
              "      <td>10</td>\n",
              "      <td>0</td>\n",
              "      <td>0.076336</td>\n",
              "      <td>0.000000</td>\n",
              "      <td>Salmon</td>\n",
              "    </tr>\n",
              "    <tr>\n",
              "      <th>6</th>\n",
              "      <td>3-3.5</td>\n",
              "      <td>12</td>\n",
              "      <td>0</td>\n",
              "      <td>0.091603</td>\n",
              "      <td>0.000000</td>\n",
              "      <td>Salmon</td>\n",
              "    </tr>\n",
              "    <tr>\n",
              "      <th>7</th>\n",
              "      <td>3.5-4</td>\n",
              "      <td>8</td>\n",
              "      <td>1</td>\n",
              "      <td>0.061069</td>\n",
              "      <td>0.007634</td>\n",
              "      <td>Salmon</td>\n",
              "    </tr>\n",
              "    <tr>\n",
              "      <th>8</th>\n",
              "      <td>4-4.5</td>\n",
              "      <td>6</td>\n",
              "      <td>0</td>\n",
              "      <td>0.045802</td>\n",
              "      <td>0.000000</td>\n",
              "      <td>Salmon</td>\n",
              "    </tr>\n",
              "    <tr>\n",
              "      <th>9</th>\n",
              "      <td>4.5-5</td>\n",
              "      <td>8</td>\n",
              "      <td>3</td>\n",
              "      <td>0.061069</td>\n",
              "      <td>0.022901</td>\n",
              "      <td>Salmon</td>\n",
              "    </tr>\n",
              "    <tr>\n",
              "      <th>10</th>\n",
              "      <td>5-5.5</td>\n",
              "      <td>4</td>\n",
              "      <td>3</td>\n",
              "      <td>0.030534</td>\n",
              "      <td>0.022901</td>\n",
              "      <td>Salmon</td>\n",
              "    </tr>\n",
              "    <tr>\n",
              "      <th>11</th>\n",
              "      <td>5.5-6</td>\n",
              "      <td>3</td>\n",
              "      <td>4</td>\n",
              "      <td>0.022901</td>\n",
              "      <td>0.030534</td>\n",
              "      <td>Seabass</td>\n",
              "    </tr>\n",
              "    <tr>\n",
              "      <th>12</th>\n",
              "      <td>6-6.5</td>\n",
              "      <td>1</td>\n",
              "      <td>6</td>\n",
              "      <td>0.007634</td>\n",
              "      <td>0.045802</td>\n",
              "      <td>Seabass</td>\n",
              "    </tr>\n",
              "    <tr>\n",
              "      <th>13</th>\n",
              "      <td>6.5-7</td>\n",
              "      <td>1</td>\n",
              "      <td>5</td>\n",
              "      <td>0.007634</td>\n",
              "      <td>0.038168</td>\n",
              "      <td>Seabass</td>\n",
              "    </tr>\n",
              "    <tr>\n",
              "      <th>14</th>\n",
              "      <td>7-7.5</td>\n",
              "      <td>0</td>\n",
              "      <td>12</td>\n",
              "      <td>0.000000</td>\n",
              "      <td>0.091603</td>\n",
              "      <td>Seabass</td>\n",
              "    </tr>\n",
              "    <tr>\n",
              "      <th>15</th>\n",
              "      <td>7.5-8</td>\n",
              "      <td>0</td>\n",
              "      <td>9</td>\n",
              "      <td>0.000000</td>\n",
              "      <td>0.068702</td>\n",
              "      <td>Seabass</td>\n",
              "    </tr>\n",
              "    <tr>\n",
              "      <th>16</th>\n",
              "      <td>8-8.5</td>\n",
              "      <td>0</td>\n",
              "      <td>9</td>\n",
              "      <td>0.000000</td>\n",
              "      <td>0.068702</td>\n",
              "      <td>Seabass</td>\n",
              "    </tr>\n",
              "    <tr>\n",
              "      <th>17</th>\n",
              "      <td>8.5-9</td>\n",
              "      <td>0</td>\n",
              "      <td>2</td>\n",
              "      <td>0.000000</td>\n",
              "      <td>0.015267</td>\n",
              "      <td>Seabass</td>\n",
              "    </tr>\n",
              "    <tr>\n",
              "      <th>18</th>\n",
              "      <td>9-9.5</td>\n",
              "      <td>0</td>\n",
              "      <td>1</td>\n",
              "      <td>0.000000</td>\n",
              "      <td>0.007634</td>\n",
              "      <td>Seabass</td>\n",
              "    </tr>\n",
              "    <tr>\n",
              "      <th>19</th>\n",
              "      <td>9.5-10</td>\n",
              "      <td>0</td>\n",
              "      <td>2</td>\n",
              "      <td>0.000000</td>\n",
              "      <td>0.015267</td>\n",
              "      <td>Seabass</td>\n",
              "    </tr>\n",
              "  </tbody>\n",
              "</table>\n",
              "</div>"
            ],
            "text/plain": [
              "   lightness  countSalmon  ...  posteriorSeabass  classIkan\n",
              "0      0-0.5            0  ...          0.000000    Seabass\n",
              "1      0.5-1            2  ...          0.000000     Salmon\n",
              "2      1-1.5            8  ...          0.000000     Salmon\n",
              "3      1.5-2            4  ...          0.000000     Salmon\n",
              "4      2-2.5            7  ...          0.000000     Salmon\n",
              "5      2.5-3           10  ...          0.000000     Salmon\n",
              "6      3-3.5           12  ...          0.000000     Salmon\n",
              "7      3.5-4            8  ...          0.007634     Salmon\n",
              "8      4-4.5            6  ...          0.000000     Salmon\n",
              "9      4.5-5            8  ...          0.022901     Salmon\n",
              "10     5-5.5            4  ...          0.022901     Salmon\n",
              "11     5.5-6            3  ...          0.030534    Seabass\n",
              "12     6-6.5            1  ...          0.045802    Seabass\n",
              "13     6.5-7            1  ...          0.038168    Seabass\n",
              "14     7-7.5            0  ...          0.091603    Seabass\n",
              "15     7.5-8            0  ...          0.068702    Seabass\n",
              "16     8-8.5            0  ...          0.068702    Seabass\n",
              "17     8.5-9            0  ...          0.015267    Seabass\n",
              "18     9-9.5            0  ...          0.007634    Seabass\n",
              "19    9.5-10            0  ...          0.015267    Seabass\n",
              "\n",
              "[20 rows x 6 columns]"
            ]
          },
          "metadata": {
            "tags": []
          },
          "execution_count": 180
        }
      ]
    },
    {
      "cell_type": "markdown",
      "metadata": {
        "id": "tjBZlo3ktBD8",
        "colab_type": "text"
      },
      "source": [
        "# Implementasi bayes decision rule berbasis minimum risk. \n",
        "![treshold.PNG](data:image/png;base64,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)![likelihood.PNG](data:image/png;base64,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)\n",
        "Terdapat 2 action alpha1 decide salmon, alpha2 decide seabass. Definisi loss sebagai 0 jika alpha-i utk kategori ikan sudah benar, dan 1 jika kategorinya salah. "
      ]
    },
    {
      "cell_type": "code",
      "metadata": {
        "id": "STu_19e9tQkf",
        "colab_type": "code",
        "colab": {
          "base_uri": "https://localhost:8080/",
          "height": 34
        },
        "outputId": "4125cd47-5ae7-4609-fb58-0c6716dbc552"
      },
      "source": [
        "ls"
      ],
      "execution_count": 173,
      "outputs": [
        {
          "output_type": "stream",
          "text": [
            " dataset.csv   minimum_risk.csv  'PR3 PENGENALAN POLA.ipynb'\n"
          ],
          "name": "stdout"
        }
      ]
    },
    {
      "cell_type": "code",
      "metadata": {
        "id": "etki6L5Attz_",
        "colab_type": "code",
        "colab": {
          "base_uri": "https://localhost:8080/",
          "height": 111
        },
        "outputId": "ee3565c3-7c23-4371-ba87-0fff48dfa4f0"
      },
      "source": [
        "data2=pd.read_csv('minimum_risk.csv')\n",
        "df1\n"
      ],
      "execution_count": 182,
      "outputs": [
        {
          "output_type": "execute_result",
          "data": {
            "text/html": [
              "<div>\n",
              "<style scoped>\n",
              "    .dataframe tbody tr th:only-of-type {\n",
              "        vertical-align: middle;\n",
              "    }\n",
              "\n",
              "    .dataframe tbody tr th {\n",
              "        vertical-align: top;\n",
              "    }\n",
              "\n",
              "    .dataframe thead th {\n",
              "        text-align: right;\n",
              "    }\n",
              "</style>\n",
              "<table border=\"1\" class=\"dataframe\">\n",
              "  <thead>\n",
              "    <tr style=\"text-align: right;\">\n",
              "      <th></th>\n",
              "      <th>Loss</th>\n",
              "      <th>Salmon</th>\n",
              "      <th>Seabass</th>\n",
              "    </tr>\n",
              "  </thead>\n",
              "  <tbody>\n",
              "    <tr>\n",
              "      <th>0</th>\n",
              "      <td>Salmon</td>\n",
              "      <td>0</td>\n",
              "      <td>1</td>\n",
              "    </tr>\n",
              "    <tr>\n",
              "      <th>1</th>\n",
              "      <td>Seabass</td>\n",
              "      <td>1</td>\n",
              "      <td>0</td>\n",
              "    </tr>\n",
              "  </tbody>\n",
              "</table>\n",
              "</div>"
            ],
            "text/plain": [
              "      Loss  Salmon  Seabass\n",
              "0   Salmon       0        1\n",
              "1  Seabass       1        0"
            ]
          },
          "metadata": {
            "tags": []
          },
          "execution_count": 182
        }
      ]
    },
    {
      "cell_type": "code",
      "metadata": {
        "id": "CGXU9alptxUR",
        "colab_type": "code",
        "colab": {
          "base_uri": "https://localhost:8080/",
          "height": 425
        },
        "outputId": "e0dbd9c0-07cf-4296-baa9-006ab3e6d2ea"
      },
      "source": [
        "#Menghitung Threshold= (lamda12-lamda22)*P(w=seabass) / (lamda21-lamda11)*P(w=salmon)\n",
        "lamda11=df1.loc[0,'Salmon']\n",
        "lamda12=df1.loc[0,'Seabass']\n",
        "lamda21=df1.loc[1,'Salmon']\n",
        "lamda22=df1.loc[1,'Seabass']\n",
        "Threshold=((lamda12-lamda22)*Pseabass) / ((lamda21-lamda11)*Psalmon)\n",
        "print('Threshold:',Threshold)\n",
        "print()\n",
        "#likelihood ratio(LR): P(x|w=salmon)/P(x|w=seabass)\n",
        "LR=Prentang_salmon/Prentang_seabass\n",
        "print('Likelihood Ratio(LR):\\n',LR)\n",
        "#jika LR>Threshold maka decide salmon\n"
      ],
      "execution_count": 175,
      "outputs": [
        {
          "output_type": "stream",
          "text": [
            "Threshold: 0.7702702702702702\n",
            "\n",
            "Likelihood Ratio(LR):\n",
            " 0          NaN\n",
            "1          inf\n",
            "2          inf\n",
            "3          inf\n",
            "4          inf\n",
            "5          inf\n",
            "6          inf\n",
            "7     6.162162\n",
            "8          inf\n",
            "9     2.054054\n",
            "10    1.027027\n",
            "11    0.577703\n",
            "12    0.128378\n",
            "13    0.154054\n",
            "14    0.000000\n",
            "15    0.000000\n",
            "16    0.000000\n",
            "17    0.000000\n",
            "18    0.000000\n",
            "19    0.000000\n",
            "dtype: float64\n"
          ],
          "name": "stdout"
        }
      ]
    },
    {
      "cell_type": "code",
      "metadata": {
        "id": "1jr-5dLZuBYQ",
        "colab_type": "code",
        "colab": {
          "base_uri": "https://localhost:8080/",
          "height": 357
        },
        "outputId": "769c0ccf-9b27-4753-fc85-0322270eb6a0"
      },
      "source": [
        "classIkan =[]\n",
        "for i in range(len(LR)):\n",
        "  if LR[i]>Threshold:\n",
        "    classIkan.append('Salmon')\n",
        "  else:\n",
        "    classIkan.append('Seabass')\n",
        "classIkan\n"
      ],
      "execution_count": 177,
      "outputs": [
        {
          "output_type": "execute_result",
          "data": {
            "text/plain": [
              "['Seabass',\n",
              " 'Salmon',\n",
              " 'Salmon',\n",
              " 'Salmon',\n",
              " 'Salmon',\n",
              " 'Salmon',\n",
              " 'Salmon',\n",
              " 'Salmon',\n",
              " 'Salmon',\n",
              " 'Salmon',\n",
              " 'Salmon',\n",
              " 'Seabass',\n",
              " 'Seabass',\n",
              " 'Seabass',\n",
              " 'Seabass',\n",
              " 'Seabass',\n",
              " 'Seabass',\n",
              " 'Seabass',\n",
              " 'Seabass',\n",
              " 'Seabass']"
            ]
          },
          "metadata": {
            "tags": []
          },
          "execution_count": 177
        }
      ]
    },
    {
      "cell_type": "code",
      "metadata": {
        "id": "xhVSRXe6utdE",
        "colab_type": "code",
        "colab": {
          "base_uri": "https://localhost:8080/",
          "height": 669
        },
        "outputId": "32730858-ec91-4e85-e66b-d0e41fe26bb7"
      },
      "source": [
        "Tabel_Klasifikasi0 = pd.DataFrame({\n",
        "    \"lightness\": df.lightness,\n",
        "    \"countSalmon\": df.countSalmon,\n",
        "    \"countSeabass\": df.countSeabass,\n",
        "    \"LikelihoodRatio\": LR,\n",
        "    \"Threshold\": [Threshold for i in range(len(LR))],\n",
        "    \"classIkan\": classIkan\n",
        "})\n",
        "\n",
        "Tabel_Klasifikasi0\n"
      ],
      "execution_count": 186,
      "outputs": [
        {
          "output_type": "execute_result",
          "data": {
            "text/html": [
              "<div>\n",
              "<style scoped>\n",
              "    .dataframe tbody tr th:only-of-type {\n",
              "        vertical-align: middle;\n",
              "    }\n",
              "\n",
              "    .dataframe tbody tr th {\n",
              "        vertical-align: top;\n",
              "    }\n",
              "\n",
              "    .dataframe thead th {\n",
              "        text-align: right;\n",
              "    }\n",
              "</style>\n",
              "<table border=\"1\" class=\"dataframe\">\n",
              "  <thead>\n",
              "    <tr style=\"text-align: right;\">\n",
              "      <th></th>\n",
              "      <th>lightness</th>\n",
              "      <th>countSalmon</th>\n",
              "      <th>countSeabass</th>\n",
              "      <th>LikelihoodRatio</th>\n",
              "      <th>Threshold</th>\n",
              "      <th>classIkan</th>\n",
              "    </tr>\n",
              "  </thead>\n",
              "  <tbody>\n",
              "    <tr>\n",
              "      <th>0</th>\n",
              "      <td>0-0.5</td>\n",
              "      <td>0</td>\n",
              "      <td>0</td>\n",
              "      <td>NaN</td>\n",
              "      <td>0.77027</td>\n",
              "      <td>Seabass</td>\n",
              "    </tr>\n",
              "    <tr>\n",
              "      <th>1</th>\n",
              "      <td>0.5-1</td>\n",
              "      <td>2</td>\n",
              "      <td>0</td>\n",
              "      <td>inf</td>\n",
              "      <td>0.77027</td>\n",
              "      <td>Salmon</td>\n",
              "    </tr>\n",
              "    <tr>\n",
              "      <th>2</th>\n",
              "      <td>1-1.5</td>\n",
              "      <td>8</td>\n",
              "      <td>0</td>\n",
              "      <td>inf</td>\n",
              "      <td>0.77027</td>\n",
              "      <td>Salmon</td>\n",
              "    </tr>\n",
              "    <tr>\n",
              "      <th>3</th>\n",
              "      <td>1.5-2</td>\n",
              "      <td>4</td>\n",
              "      <td>0</td>\n",
              "      <td>inf</td>\n",
              "      <td>0.77027</td>\n",
              "      <td>Salmon</td>\n",
              "    </tr>\n",
              "    <tr>\n",
              "      <th>4</th>\n",
              "      <td>2-2.5</td>\n",
              "      <td>7</td>\n",
              "      <td>0</td>\n",
              "      <td>inf</td>\n",
              "      <td>0.77027</td>\n",
              "      <td>Salmon</td>\n",
              "    </tr>\n",
              "    <tr>\n",
              "      <th>5</th>\n",
              "      <td>2.5-3</td>\n",
              "      <td>10</td>\n",
              "      <td>0</td>\n",
              "      <td>inf</td>\n",
              "      <td>0.77027</td>\n",
              "      <td>Salmon</td>\n",
              "    </tr>\n",
              "    <tr>\n",
              "      <th>6</th>\n",
              "      <td>3-3.5</td>\n",
              "      <td>12</td>\n",
              "      <td>0</td>\n",
              "      <td>inf</td>\n",
              "      <td>0.77027</td>\n",
              "      <td>Salmon</td>\n",
              "    </tr>\n",
              "    <tr>\n",
              "      <th>7</th>\n",
              "      <td>3.5-4</td>\n",
              "      <td>8</td>\n",
              "      <td>1</td>\n",
              "      <td>6.162162</td>\n",
              "      <td>0.77027</td>\n",
              "      <td>Salmon</td>\n",
              "    </tr>\n",
              "    <tr>\n",
              "      <th>8</th>\n",
              "      <td>4-4.5</td>\n",
              "      <td>6</td>\n",
              "      <td>0</td>\n",
              "      <td>inf</td>\n",
              "      <td>0.77027</td>\n",
              "      <td>Salmon</td>\n",
              "    </tr>\n",
              "    <tr>\n",
              "      <th>9</th>\n",
              "      <td>4.5-5</td>\n",
              "      <td>8</td>\n",
              "      <td>3</td>\n",
              "      <td>2.054054</td>\n",
              "      <td>0.77027</td>\n",
              "      <td>Salmon</td>\n",
              "    </tr>\n",
              "    <tr>\n",
              "      <th>10</th>\n",
              "      <td>5-5.5</td>\n",
              "      <td>4</td>\n",
              "      <td>3</td>\n",
              "      <td>1.027027</td>\n",
              "      <td>0.77027</td>\n",
              "      <td>Salmon</td>\n",
              "    </tr>\n",
              "    <tr>\n",
              "      <th>11</th>\n",
              "      <td>5.5-6</td>\n",
              "      <td>3</td>\n",
              "      <td>4</td>\n",
              "      <td>0.577703</td>\n",
              "      <td>0.77027</td>\n",
              "      <td>Seabass</td>\n",
              "    </tr>\n",
              "    <tr>\n",
              "      <th>12</th>\n",
              "      <td>6-6.5</td>\n",
              "      <td>1</td>\n",
              "      <td>6</td>\n",
              "      <td>0.128378</td>\n",
              "      <td>0.77027</td>\n",
              "      <td>Seabass</td>\n",
              "    </tr>\n",
              "    <tr>\n",
              "      <th>13</th>\n",
              "      <td>6.5-7</td>\n",
              "      <td>1</td>\n",
              "      <td>5</td>\n",
              "      <td>0.154054</td>\n",
              "      <td>0.77027</td>\n",
              "      <td>Seabass</td>\n",
              "    </tr>\n",
              "    <tr>\n",
              "      <th>14</th>\n",
              "      <td>7-7.5</td>\n",
              "      <td>0</td>\n",
              "      <td>12</td>\n",
              "      <td>0.000000</td>\n",
              "      <td>0.77027</td>\n",
              "      <td>Seabass</td>\n",
              "    </tr>\n",
              "    <tr>\n",
              "      <th>15</th>\n",
              "      <td>7.5-8</td>\n",
              "      <td>0</td>\n",
              "      <td>9</td>\n",
              "      <td>0.000000</td>\n",
              "      <td>0.77027</td>\n",
              "      <td>Seabass</td>\n",
              "    </tr>\n",
              "    <tr>\n",
              "      <th>16</th>\n",
              "      <td>8-8.5</td>\n",
              "      <td>0</td>\n",
              "      <td>9</td>\n",
              "      <td>0.000000</td>\n",
              "      <td>0.77027</td>\n",
              "      <td>Seabass</td>\n",
              "    </tr>\n",
              "    <tr>\n",
              "      <th>17</th>\n",
              "      <td>8.5-9</td>\n",
              "      <td>0</td>\n",
              "      <td>2</td>\n",
              "      <td>0.000000</td>\n",
              "      <td>0.77027</td>\n",
              "      <td>Seabass</td>\n",
              "    </tr>\n",
              "    <tr>\n",
              "      <th>18</th>\n",
              "      <td>9-9.5</td>\n",
              "      <td>0</td>\n",
              "      <td>1</td>\n",
              "      <td>0.000000</td>\n",
              "      <td>0.77027</td>\n",
              "      <td>Seabass</td>\n",
              "    </tr>\n",
              "    <tr>\n",
              "      <th>19</th>\n",
              "      <td>9.5-10</td>\n",
              "      <td>0</td>\n",
              "      <td>2</td>\n",
              "      <td>0.000000</td>\n",
              "      <td>0.77027</td>\n",
              "      <td>Seabass</td>\n",
              "    </tr>\n",
              "  </tbody>\n",
              "</table>\n",
              "</div>"
            ],
            "text/plain": [
              "   lightness  countSalmon  countSeabass  LikelihoodRatio  Threshold classIkan\n",
              "0      0-0.5            0             0              NaN    0.77027   Seabass\n",
              "1      0.5-1            2             0              inf    0.77027    Salmon\n",
              "2      1-1.5            8             0              inf    0.77027    Salmon\n",
              "3      1.5-2            4             0              inf    0.77027    Salmon\n",
              "4      2-2.5            7             0              inf    0.77027    Salmon\n",
              "5      2.5-3           10             0              inf    0.77027    Salmon\n",
              "6      3-3.5           12             0              inf    0.77027    Salmon\n",
              "7      3.5-4            8             1         6.162162    0.77027    Salmon\n",
              "8      4-4.5            6             0              inf    0.77027    Salmon\n",
              "9      4.5-5            8             3         2.054054    0.77027    Salmon\n",
              "10     5-5.5            4             3         1.027027    0.77027    Salmon\n",
              "11     5.5-6            3             4         0.577703    0.77027   Seabass\n",
              "12     6-6.5            1             6         0.128378    0.77027   Seabass\n",
              "13     6.5-7            1             5         0.154054    0.77027   Seabass\n",
              "14     7-7.5            0            12         0.000000    0.77027   Seabass\n",
              "15     7.5-8            0             9         0.000000    0.77027   Seabass\n",
              "16     8-8.5            0             9         0.000000    0.77027   Seabass\n",
              "17     8.5-9            0             2         0.000000    0.77027   Seabass\n",
              "18     9-9.5            0             1         0.000000    0.77027   Seabass\n",
              "19    9.5-10            0             2         0.000000    0.77027   Seabass"
            ]
          },
          "metadata": {
            "tags": []
          },
          "execution_count": 186
        }
      ]
    },
    {
      "cell_type": "markdown",
      "metadata": {
        "id": "Mg7lDvEcgo6_",
        "colab_type": "text"
      },
      "source": [
        "# Improvement: Cara lain dengan menambahkan nilai 1 untuk tiap data salmon dan seabass pada rentang"
      ]
    },
    {
      "cell_type": "markdown",
      "metadata": {
        "id": "mIP-o3PGcqgH",
        "colab_type": "text"
      },
      "source": [
        "# Preprocessing Data \n",
        "preprocessing data dilakukan karena pada data tersebut, perhitungan probabilitas P(x|w=salmon) dan P(x|w=seabass) beberapa instance menghasilkan 0. preprocessing data dapat dilakukan dengan menambahkan nilai 1 untuk tiap value instance yang bernilai 0. Sehingga untuk menghitung posterior nantinya tidak memungkinkan terdapat nilai posterior yang 0 dan memudahkan visualisasi (LR dan Threshold) dalam memberi keputusan menggunakan minimum risk.\n",
        "\n",
        "\n"
      ]
    },
    {
      "cell_type": "code",
      "metadata": {
        "id": "nsBm6VzRIgOs",
        "colab_type": "code",
        "colab": {
          "base_uri": "https://localhost:8080/",
          "height": 85
        },
        "outputId": "3a274007-aab1-4dd7-f985-32779bcf3e31"
      },
      "source": [
        "countSalmon=np.array(data.countSalmon)+1\n",
        "countSeabass=np.array(data.countSeabass)+1\n",
        "print ('Salmon: \\n', countSalmon)\n",
        "print('Seabass: \\n',countSeabass)\n"
      ],
      "execution_count": 191,
      "outputs": [
        {
          "output_type": "stream",
          "text": [
            "Salmon: \n",
            " [ 1  3  9  5  8 11 13  9  7  9  5  4  2  2  1  1  1  1  1  1]\n",
            "Seabass: \n",
            " [ 1  1  1  1  1  1  1  2  1  4  4  5  7  6 13 10 10  3  2  3]\n"
          ],
          "name": "stdout"
        }
      ]
    },
    {
      "cell_type": "markdown",
      "metadata": {
        "id": "QJKLeocchFZN",
        "colab_type": "text"
      },
      "source": [
        "#Implementasi perhitungan P(kelas) dan P(x|kelas) berdasarkan data yang sudah dipreproses."
      ]
    },
    {
      "cell_type": "code",
      "metadata": {
        "id": "aKoZOABjhHgk",
        "colab_type": "code",
        "colab": {
          "base_uri": "https://localhost:8080/",
          "height": 85
        },
        "outputId": "11ba573c-6e19-4012-f746-2e849c6c74d8"
      },
      "source": [
        "jumlahSalmon=countSalmon.sum()\n",
        "jumlahSeabass=countSeabass.sum()\n",
        "print('Jumlah Salmon Menjadi: ', jumlahSalmon)\n",
        "print('Jumlah Seabass Menjadi: ', jumlahSeabass)\n",
        "Psalmon= jumlahSalmon/(jumlahSalmon+jumlahSeabass)\n",
        "Pseabass= jumlahSeabass/(jumlahSalmon+jumlahSeabass)\n",
        "print(\"P(w=salmon) = \", Psalmon)\n",
        "print(\"P(w=seabass) = \", Pseabass)"
      ],
      "execution_count": 192,
      "outputs": [
        {
          "output_type": "stream",
          "text": [
            "Jumlah Salmon Menjadi:  94\n",
            "Jumlah Seabass Menjadi:  77\n",
            "P(w=salmon) =  0.5497076023391813\n",
            "P(w=seabass) =  0.4502923976608187\n"
          ],
          "name": "stdout"
        }
      ]
    },
    {
      "cell_type": "code",
      "metadata": {
        "id": "pu30wChN1yXp",
        "colab_type": "code",
        "colab": {
          "base_uri": "https://localhost:8080/",
          "height": 187
        },
        "outputId": "c1e1cd1e-f3ef-4b07-827d-fab8d9d32945"
      },
      "source": [
        "Prentang_salmon=countSalmon/jumlahSalmon\n",
        "print('P(x|w=salmon)\\n', Prentang_salmon)\n",
        "Prentang_seabass=countSeabass/jumlahSeabass\n",
        "print('P(x|w=seabass)\\n', Prentang_seabass)"
      ],
      "execution_count": 193,
      "outputs": [
        {
          "output_type": "stream",
          "text": [
            "P(x|w=salmon)\n",
            " [0.0106383  0.03191489 0.09574468 0.05319149 0.08510638 0.11702128\n",
            " 0.13829787 0.09574468 0.07446809 0.09574468 0.05319149 0.04255319\n",
            " 0.0212766  0.0212766  0.0106383  0.0106383  0.0106383  0.0106383\n",
            " 0.0106383  0.0106383 ]\n",
            "P(x|w=seabass)\n",
            " [0.01298701 0.01298701 0.01298701 0.01298701 0.01298701 0.01298701\n",
            " 0.01298701 0.02597403 0.01298701 0.05194805 0.05194805 0.06493506\n",
            " 0.09090909 0.07792208 0.16883117 0.12987013 0.12987013 0.03896104\n",
            " 0.02597403 0.03896104]\n"
          ],
          "name": "stdout"
        }
      ]
    },
    {
      "cell_type": "markdown",
      "metadata": {
        "id": "Y8wwjN0-hneV",
        "colab_type": "text"
      },
      "source": [
        "# Implementasi bayes decision rule berbasis maximum posterior probability dari data yang sudah dipreproses."
      ]
    },
    {
      "cell_type": "code",
      "metadata": {
        "id": "Ke3JM6Eu44bG",
        "colab_type": "code",
        "colab": {
          "base_uri": "https://localhost:8080/",
          "height": 187
        },
        "outputId": "969620e9-5ee6-4bc7-89f3-97a48cc0dd9b"
      },
      "source": [
        "#Posterior conditional probability: P(ωi|x) → P(x|ωi).P(ωi)\n",
        "PosteriorSalmon= Prentang_salmon*Psalmon\n",
        "print('Posterior Salmon: \\n', PosteriorSalmon)\n",
        "PosteriorSeabass= Pseabass*Prentang_seabass\n",
        "print('Posterior Seabass: \\n', PosteriorSeabass)"
      ],
      "execution_count": 194,
      "outputs": [
        {
          "output_type": "stream",
          "text": [
            "Posterior Salmon: \n",
            " [0.00584795 0.01754386 0.05263158 0.02923977 0.04678363 0.06432749\n",
            " 0.07602339 0.05263158 0.04093567 0.05263158 0.02923977 0.02339181\n",
            " 0.01169591 0.01169591 0.00584795 0.00584795 0.00584795 0.00584795\n",
            " 0.00584795 0.00584795]\n",
            "Posterior Seabass: \n",
            " [0.00584795 0.00584795 0.00584795 0.00584795 0.00584795 0.00584795\n",
            " 0.00584795 0.01169591 0.00584795 0.02339181 0.02339181 0.02923977\n",
            " 0.04093567 0.03508772 0.07602339 0.05847953 0.05847953 0.01754386\n",
            " 0.01169591 0.01754386]\n"
          ],
          "name": "stdout"
        }
      ]
    },
    {
      "cell_type": "code",
      "metadata": {
        "id": "6g7f_iDVjxZV",
        "colab_type": "code",
        "colab": {
          "base_uri": "https://localhost:8080/",
          "height": 357
        },
        "outputId": "9ccfb76a-5327-4cf4-cb94-640ffa4e4b44"
      },
      "source": [
        "classIkan=[]\n",
        "for i in range(len(PosteriorSalmon)):\n",
        "  if PosteriorSalmon[i]>PosteriorSeabass[i]:\n",
        "   classIkan.append('Salmon')\n",
        "  else:\n",
        "    classIkan.append('Seabass')\n",
        "\n",
        "classIkan"
      ],
      "execution_count": 195,
      "outputs": [
        {
          "output_type": "execute_result",
          "data": {
            "text/plain": [
              "['Seabass',\n",
              " 'Salmon',\n",
              " 'Salmon',\n",
              " 'Salmon',\n",
              " 'Salmon',\n",
              " 'Salmon',\n",
              " 'Salmon',\n",
              " 'Salmon',\n",
              " 'Salmon',\n",
              " 'Salmon',\n",
              " 'Salmon',\n",
              " 'Seabass',\n",
              " 'Seabass',\n",
              " 'Seabass',\n",
              " 'Seabass',\n",
              " 'Seabass',\n",
              " 'Seabass',\n",
              " 'Seabass',\n",
              " 'Seabass',\n",
              " 'Seabass']"
            ]
          },
          "metadata": {
            "tags": []
          },
          "execution_count": 195
        }
      ]
    },
    {
      "cell_type": "code",
      "metadata": {
        "id": "lYtR5-IrpNah",
        "colab_type": "code",
        "colab": {
          "base_uri": "https://localhost:8080/",
          "height": 669
        },
        "outputId": "053d5eab-5936-4b70-a54a-3c2cfb7bab1a"
      },
      "source": [
        "Tabel_Klasifikasi1 = pd.DataFrame({\n",
        "    \"lightness\": df.lightness,\n",
        "    \"countSalmon\": df.countSalmon,\n",
        "    \"countSeabass\": df.countSeabass,\n",
        "    \"posteriorSalmon\": PosteriorSalmon,\n",
        "    \"posteriorSeabass\": PosteriorSeabass,\n",
        "    \"classIkan\": classIkan\n",
        "})\n",
        "\n",
        "Tabel_Klasifikasi1"
      ],
      "execution_count": 197,
      "outputs": [
        {
          "output_type": "execute_result",
          "data": {
            "text/html": [
              "<div>\n",
              "<style scoped>\n",
              "    .dataframe tbody tr th:only-of-type {\n",
              "        vertical-align: middle;\n",
              "    }\n",
              "\n",
              "    .dataframe tbody tr th {\n",
              "        vertical-align: top;\n",
              "    }\n",
              "\n",
              "    .dataframe thead th {\n",
              "        text-align: right;\n",
              "    }\n",
              "</style>\n",
              "<table border=\"1\" class=\"dataframe\">\n",
              "  <thead>\n",
              "    <tr style=\"text-align: right;\">\n",
              "      <th></th>\n",
              "      <th>lightness</th>\n",
              "      <th>countSalmon</th>\n",
              "      <th>countSeabass</th>\n",
              "      <th>posteriorSalmon</th>\n",
              "      <th>posteriorSeabass</th>\n",
              "      <th>classIkan</th>\n",
              "    </tr>\n",
              "  </thead>\n",
              "  <tbody>\n",
              "    <tr>\n",
              "      <th>0</th>\n",
              "      <td>0-0.5</td>\n",
              "      <td>0</td>\n",
              "      <td>0</td>\n",
              "      <td>0.005848</td>\n",
              "      <td>0.005848</td>\n",
              "      <td>Seabass</td>\n",
              "    </tr>\n",
              "    <tr>\n",
              "      <th>1</th>\n",
              "      <td>0.5-1</td>\n",
              "      <td>2</td>\n",
              "      <td>0</td>\n",
              "      <td>0.017544</td>\n",
              "      <td>0.005848</td>\n",
              "      <td>Salmon</td>\n",
              "    </tr>\n",
              "    <tr>\n",
              "      <th>2</th>\n",
              "      <td>1-1.5</td>\n",
              "      <td>8</td>\n",
              "      <td>0</td>\n",
              "      <td>0.052632</td>\n",
              "      <td>0.005848</td>\n",
              "      <td>Salmon</td>\n",
              "    </tr>\n",
              "    <tr>\n",
              "      <th>3</th>\n",
              "      <td>1.5-2</td>\n",
              "      <td>4</td>\n",
              "      <td>0</td>\n",
              "      <td>0.029240</td>\n",
              "      <td>0.005848</td>\n",
              "      <td>Salmon</td>\n",
              "    </tr>\n",
              "    <tr>\n",
              "      <th>4</th>\n",
              "      <td>2-2.5</td>\n",
              "      <td>7</td>\n",
              "      <td>0</td>\n",
              "      <td>0.046784</td>\n",
              "      <td>0.005848</td>\n",
              "      <td>Salmon</td>\n",
              "    </tr>\n",
              "    <tr>\n",
              "      <th>5</th>\n",
              "      <td>2.5-3</td>\n",
              "      <td>10</td>\n",
              "      <td>0</td>\n",
              "      <td>0.064327</td>\n",
              "      <td>0.005848</td>\n",
              "      <td>Salmon</td>\n",
              "    </tr>\n",
              "    <tr>\n",
              "      <th>6</th>\n",
              "      <td>3-3.5</td>\n",
              "      <td>12</td>\n",
              "      <td>0</td>\n",
              "      <td>0.076023</td>\n",
              "      <td>0.005848</td>\n",
              "      <td>Salmon</td>\n",
              "    </tr>\n",
              "    <tr>\n",
              "      <th>7</th>\n",
              "      <td>3.5-4</td>\n",
              "      <td>8</td>\n",
              "      <td>1</td>\n",
              "      <td>0.052632</td>\n",
              "      <td>0.011696</td>\n",
              "      <td>Salmon</td>\n",
              "    </tr>\n",
              "    <tr>\n",
              "      <th>8</th>\n",
              "      <td>4-4.5</td>\n",
              "      <td>6</td>\n",
              "      <td>0</td>\n",
              "      <td>0.040936</td>\n",
              "      <td>0.005848</td>\n",
              "      <td>Salmon</td>\n",
              "    </tr>\n",
              "    <tr>\n",
              "      <th>9</th>\n",
              "      <td>4.5-5</td>\n",
              "      <td>8</td>\n",
              "      <td>3</td>\n",
              "      <td>0.052632</td>\n",
              "      <td>0.023392</td>\n",
              "      <td>Salmon</td>\n",
              "    </tr>\n",
              "    <tr>\n",
              "      <th>10</th>\n",
              "      <td>5-5.5</td>\n",
              "      <td>4</td>\n",
              "      <td>3</td>\n",
              "      <td>0.029240</td>\n",
              "      <td>0.023392</td>\n",
              "      <td>Salmon</td>\n",
              "    </tr>\n",
              "    <tr>\n",
              "      <th>11</th>\n",
              "      <td>5.5-6</td>\n",
              "      <td>3</td>\n",
              "      <td>4</td>\n",
              "      <td>0.023392</td>\n",
              "      <td>0.029240</td>\n",
              "      <td>Seabass</td>\n",
              "    </tr>\n",
              "    <tr>\n",
              "      <th>12</th>\n",
              "      <td>6-6.5</td>\n",
              "      <td>1</td>\n",
              "      <td>6</td>\n",
              "      <td>0.011696</td>\n",
              "      <td>0.040936</td>\n",
              "      <td>Seabass</td>\n",
              "    </tr>\n",
              "    <tr>\n",
              "      <th>13</th>\n",
              "      <td>6.5-7</td>\n",
              "      <td>1</td>\n",
              "      <td>5</td>\n",
              "      <td>0.011696</td>\n",
              "      <td>0.035088</td>\n",
              "      <td>Seabass</td>\n",
              "    </tr>\n",
              "    <tr>\n",
              "      <th>14</th>\n",
              "      <td>7-7.5</td>\n",
              "      <td>0</td>\n",
              "      <td>12</td>\n",
              "      <td>0.005848</td>\n",
              "      <td>0.076023</td>\n",
              "      <td>Seabass</td>\n",
              "    </tr>\n",
              "    <tr>\n",
              "      <th>15</th>\n",
              "      <td>7.5-8</td>\n",
              "      <td>0</td>\n",
              "      <td>9</td>\n",
              "      <td>0.005848</td>\n",
              "      <td>0.058480</td>\n",
              "      <td>Seabass</td>\n",
              "    </tr>\n",
              "    <tr>\n",
              "      <th>16</th>\n",
              "      <td>8-8.5</td>\n",
              "      <td>0</td>\n",
              "      <td>9</td>\n",
              "      <td>0.005848</td>\n",
              "      <td>0.058480</td>\n",
              "      <td>Seabass</td>\n",
              "    </tr>\n",
              "    <tr>\n",
              "      <th>17</th>\n",
              "      <td>8.5-9</td>\n",
              "      <td>0</td>\n",
              "      <td>2</td>\n",
              "      <td>0.005848</td>\n",
              "      <td>0.017544</td>\n",
              "      <td>Seabass</td>\n",
              "    </tr>\n",
              "    <tr>\n",
              "      <th>18</th>\n",
              "      <td>9-9.5</td>\n",
              "      <td>0</td>\n",
              "      <td>1</td>\n",
              "      <td>0.005848</td>\n",
              "      <td>0.011696</td>\n",
              "      <td>Seabass</td>\n",
              "    </tr>\n",
              "    <tr>\n",
              "      <th>19</th>\n",
              "      <td>9.5-10</td>\n",
              "      <td>0</td>\n",
              "      <td>2</td>\n",
              "      <td>0.005848</td>\n",
              "      <td>0.017544</td>\n",
              "      <td>Seabass</td>\n",
              "    </tr>\n",
              "  </tbody>\n",
              "</table>\n",
              "</div>"
            ],
            "text/plain": [
              "   lightness  countSalmon  ...  posteriorSeabass  classIkan\n",
              "0      0-0.5            0  ...          0.005848    Seabass\n",
              "1      0.5-1            2  ...          0.005848     Salmon\n",
              "2      1-1.5            8  ...          0.005848     Salmon\n",
              "3      1.5-2            4  ...          0.005848     Salmon\n",
              "4      2-2.5            7  ...          0.005848     Salmon\n",
              "5      2.5-3           10  ...          0.005848     Salmon\n",
              "6      3-3.5           12  ...          0.005848     Salmon\n",
              "7      3.5-4            8  ...          0.011696     Salmon\n",
              "8      4-4.5            6  ...          0.005848     Salmon\n",
              "9      4.5-5            8  ...          0.023392     Salmon\n",
              "10     5-5.5            4  ...          0.023392     Salmon\n",
              "11     5.5-6            3  ...          0.029240    Seabass\n",
              "12     6-6.5            1  ...          0.040936    Seabass\n",
              "13     6.5-7            1  ...          0.035088    Seabass\n",
              "14     7-7.5            0  ...          0.076023    Seabass\n",
              "15     7.5-8            0  ...          0.058480    Seabass\n",
              "16     8-8.5            0  ...          0.058480    Seabass\n",
              "17     8.5-9            0  ...          0.017544    Seabass\n",
              "18     9-9.5            0  ...          0.011696    Seabass\n",
              "19    9.5-10            0  ...          0.017544    Seabass\n",
              "\n",
              "[20 rows x 6 columns]"
            ]
          },
          "metadata": {
            "tags": []
          },
          "execution_count": 197
        }
      ]
    },
    {
      "cell_type": "markdown",
      "metadata": {
        "id": "wtkjVxYPlWZd",
        "colab_type": "text"
      },
      "source": [
        "# Implementasi bayes decision rule berbasis minimum risk dari data yang sudah dipreproses. \n",
        "![treshold.PNG](data:image/png;base64,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)![likelihood.PNG](data:image/png;base64,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)\n",
        "\n",
        "Terdapat 2 action alpha1 decide salmon, alpha2 decide seabass. Definisi loss sebagai 0 jika alpha-i utk kategori ikan sudah benar, dan 1 jika kategorinya salah. "
      ]
    },
    {
      "cell_type": "code",
      "metadata": {
        "id": "zo6GxJLNcbCj",
        "colab_type": "code",
        "colab": {
          "base_uri": "https://localhost:8080/",
          "height": 34
        },
        "outputId": "22454c1b-b9db-439c-85de-cb9b1e330230"
      },
      "source": [
        "ls\n"
      ],
      "execution_count": 198,
      "outputs": [
        {
          "output_type": "stream",
          "text": [
            " dataset.csv   minimum_risk.csv  'PR3 PENGENALAN POLA.ipynb'\n"
          ],
          "name": "stdout"
        }
      ]
    },
    {
      "cell_type": "code",
      "metadata": {
        "id": "SHs0uDbZcg-I",
        "colab_type": "code",
        "colab": {
          "base_uri": "https://localhost:8080/",
          "height": 111
        },
        "outputId": "6dbf838d-ade9-4991-b0d7-3c8a1eb49c71"
      },
      "source": [
        "data2=pd.read_csv('minimum_risk.csv')\n",
        "df1"
      ],
      "execution_count": 200,
      "outputs": [
        {
          "output_type": "execute_result",
          "data": {
            "text/html": [
              "<div>\n",
              "<style scoped>\n",
              "    .dataframe tbody tr th:only-of-type {\n",
              "        vertical-align: middle;\n",
              "    }\n",
              "\n",
              "    .dataframe tbody tr th {\n",
              "        vertical-align: top;\n",
              "    }\n",
              "\n",
              "    .dataframe thead th {\n",
              "        text-align: right;\n",
              "    }\n",
              "</style>\n",
              "<table border=\"1\" class=\"dataframe\">\n",
              "  <thead>\n",
              "    <tr style=\"text-align: right;\">\n",
              "      <th></th>\n",
              "      <th>Loss</th>\n",
              "      <th>Salmon</th>\n",
              "      <th>Seabass</th>\n",
              "    </tr>\n",
              "  </thead>\n",
              "  <tbody>\n",
              "    <tr>\n",
              "      <th>0</th>\n",
              "      <td>Salmon</td>\n",
              "      <td>0</td>\n",
              "      <td>1</td>\n",
              "    </tr>\n",
              "    <tr>\n",
              "      <th>1</th>\n",
              "      <td>Seabass</td>\n",
              "      <td>1</td>\n",
              "      <td>0</td>\n",
              "    </tr>\n",
              "  </tbody>\n",
              "</table>\n",
              "</div>"
            ],
            "text/plain": [
              "      Loss  Salmon  Seabass\n",
              "0   Salmon       0        1\n",
              "1  Seabass       1        0"
            ]
          },
          "metadata": {
            "tags": []
          },
          "execution_count": 200
        }
      ]
    },
    {
      "cell_type": "code",
      "metadata": {
        "id": "1EZT4w6ic2bA",
        "colab_type": "code",
        "colab": {
          "base_uri": "https://localhost:8080/",
          "height": 136
        },
        "outputId": "1a54c37c-4a60-4603-a3ed-b06479ee35c0"
      },
      "source": [
        "#Menghitung Threshold= (lamda12-lamda22)*P(w=seabass) / (lamda21-lamda11)*P(w=salmon)\n",
        "lamda11=df1.loc[0,'Salmon']\n",
        "lamda12=df1.loc[0,'Seabass']\n",
        "lamda21=df1.loc[1,'Salmon']\n",
        "lamda22=df1.loc[1,'Seabass']\n",
        "Threshold=((lamda12-lamda22)*Pseabass) / ((lamda21-lamda11)*Psalmon)\n",
        "print('Threshold:',Threshold)\n",
        "print()\n",
        "#likelihood ratio(LR): P(x|w=salmon)/P(x|w=seabass)\n",
        "LR=Prentang_salmon/Prentang_seabass\n",
        "print('Likelihood Ratio(LR):\\n',LR)\n",
        "#jika LR>Threshold maka decide salmon\n"
      ],
      "execution_count": 201,
      "outputs": [
        {
          "output_type": "stream",
          "text": [
            "Threshold: 0.8191489361702128\n",
            "\n",
            "Likelihood Ratio(LR):\n",
            " [ 0.81914894  2.45744681  7.37234043  4.09574468  6.55319149  9.0106383\n",
            " 10.64893617  3.68617021  5.73404255  1.84308511  1.02393617  0.65531915\n",
            "  0.23404255  0.27304965  0.06301146  0.08191489  0.08191489  0.27304965\n",
            "  0.40957447  0.27304965]\n"
          ],
          "name": "stdout"
        }
      ]
    },
    {
      "cell_type": "code",
      "metadata": {
        "id": "2SnyPJrKoyv_",
        "colab_type": "code",
        "colab": {
          "base_uri": "https://localhost:8080/",
          "height": 357
        },
        "outputId": "98aa80fe-e229-4e9d-8d7a-299c9490828a"
      },
      "source": [
        "classIkan =[]\n",
        "for i in range(len(LR)):\n",
        "  if LR[i]>Threshold:\n",
        "    classIkan.append('Salmon')\n",
        "  else:\n",
        "    classIkan.append('Seabass')\n",
        " #[\"Salmon\" if a > Threshold else \"seabass\" for a in LR]\n",
        "classIkan"
      ],
      "execution_count": 202,
      "outputs": [
        {
          "output_type": "execute_result",
          "data": {
            "text/plain": [
              "['Seabass',\n",
              " 'Salmon',\n",
              " 'Salmon',\n",
              " 'Salmon',\n",
              " 'Salmon',\n",
              " 'Salmon',\n",
              " 'Salmon',\n",
              " 'Salmon',\n",
              " 'Salmon',\n",
              " 'Salmon',\n",
              " 'Salmon',\n",
              " 'Seabass',\n",
              " 'Seabass',\n",
              " 'Seabass',\n",
              " 'Seabass',\n",
              " 'Seabass',\n",
              " 'Seabass',\n",
              " 'Seabass',\n",
              " 'Seabass',\n",
              " 'Seabass']"
            ]
          },
          "metadata": {
            "tags": []
          },
          "execution_count": 202
        }
      ]
    },
    {
      "cell_type": "code",
      "metadata": {
        "id": "rlllCVwpGckL",
        "colab_type": "code",
        "colab": {
          "base_uri": "https://localhost:8080/",
          "height": 669
        },
        "outputId": "d3f64c15-5088-41bd-e6c2-bfeda133f6ce"
      },
      "source": [
        "Tabel_Klasifikasi2 = pd.DataFrame({\n",
        "    \"lightness\": df.lightness,\n",
        "    \"countSalmon\": df.countSalmon,\n",
        "    \"countSeabass\": df.countSeabass,\n",
        "    \"LikelihoodRatio\": LR,\n",
        "    \"Threshold\": [Threshold for i in range(len(LR))],\n",
        "    \"classIkan\": classIkan\n",
        "})\n",
        "\n",
        "Tabel_Klasifikasi2"
      ],
      "execution_count": 203,
      "outputs": [
        {
          "output_type": "execute_result",
          "data": {
            "text/html": [
              "<div>\n",
              "<style scoped>\n",
              "    .dataframe tbody tr th:only-of-type {\n",
              "        vertical-align: middle;\n",
              "    }\n",
              "\n",
              "    .dataframe tbody tr th {\n",
              "        vertical-align: top;\n",
              "    }\n",
              "\n",
              "    .dataframe thead th {\n",
              "        text-align: right;\n",
              "    }\n",
              "</style>\n",
              "<table border=\"1\" class=\"dataframe\">\n",
              "  <thead>\n",
              "    <tr style=\"text-align: right;\">\n",
              "      <th></th>\n",
              "      <th>lightness</th>\n",
              "      <th>countSalmon</th>\n",
              "      <th>countSeabass</th>\n",
              "      <th>LikelihoodRatio</th>\n",
              "      <th>Threshold</th>\n",
              "      <th>classIkan</th>\n",
              "    </tr>\n",
              "  </thead>\n",
              "  <tbody>\n",
              "    <tr>\n",
              "      <th>0</th>\n",
              "      <td>0-0.5</td>\n",
              "      <td>0</td>\n",
              "      <td>0</td>\n",
              "      <td>0.819149</td>\n",
              "      <td>0.819149</td>\n",
              "      <td>Seabass</td>\n",
              "    </tr>\n",
              "    <tr>\n",
              "      <th>1</th>\n",
              "      <td>0.5-1</td>\n",
              "      <td>2</td>\n",
              "      <td>0</td>\n",
              "      <td>2.457447</td>\n",
              "      <td>0.819149</td>\n",
              "      <td>Salmon</td>\n",
              "    </tr>\n",
              "    <tr>\n",
              "      <th>2</th>\n",
              "      <td>1-1.5</td>\n",
              "      <td>8</td>\n",
              "      <td>0</td>\n",
              "      <td>7.372340</td>\n",
              "      <td>0.819149</td>\n",
              "      <td>Salmon</td>\n",
              "    </tr>\n",
              "    <tr>\n",
              "      <th>3</th>\n",
              "      <td>1.5-2</td>\n",
              "      <td>4</td>\n",
              "      <td>0</td>\n",
              "      <td>4.095745</td>\n",
              "      <td>0.819149</td>\n",
              "      <td>Salmon</td>\n",
              "    </tr>\n",
              "    <tr>\n",
              "      <th>4</th>\n",
              "      <td>2-2.5</td>\n",
              "      <td>7</td>\n",
              "      <td>0</td>\n",
              "      <td>6.553191</td>\n",
              "      <td>0.819149</td>\n",
              "      <td>Salmon</td>\n",
              "    </tr>\n",
              "    <tr>\n",
              "      <th>5</th>\n",
              "      <td>2.5-3</td>\n",
              "      <td>10</td>\n",
              "      <td>0</td>\n",
              "      <td>9.010638</td>\n",
              "      <td>0.819149</td>\n",
              "      <td>Salmon</td>\n",
              "    </tr>\n",
              "    <tr>\n",
              "      <th>6</th>\n",
              "      <td>3-3.5</td>\n",
              "      <td>12</td>\n",
              "      <td>0</td>\n",
              "      <td>10.648936</td>\n",
              "      <td>0.819149</td>\n",
              "      <td>Salmon</td>\n",
              "    </tr>\n",
              "    <tr>\n",
              "      <th>7</th>\n",
              "      <td>3.5-4</td>\n",
              "      <td>8</td>\n",
              "      <td>1</td>\n",
              "      <td>3.686170</td>\n",
              "      <td>0.819149</td>\n",
              "      <td>Salmon</td>\n",
              "    </tr>\n",
              "    <tr>\n",
              "      <th>8</th>\n",
              "      <td>4-4.5</td>\n",
              "      <td>6</td>\n",
              "      <td>0</td>\n",
              "      <td>5.734043</td>\n",
              "      <td>0.819149</td>\n",
              "      <td>Salmon</td>\n",
              "    </tr>\n",
              "    <tr>\n",
              "      <th>9</th>\n",
              "      <td>4.5-5</td>\n",
              "      <td>8</td>\n",
              "      <td>3</td>\n",
              "      <td>1.843085</td>\n",
              "      <td>0.819149</td>\n",
              "      <td>Salmon</td>\n",
              "    </tr>\n",
              "    <tr>\n",
              "      <th>10</th>\n",
              "      <td>5-5.5</td>\n",
              "      <td>4</td>\n",
              "      <td>3</td>\n",
              "      <td>1.023936</td>\n",
              "      <td>0.819149</td>\n",
              "      <td>Salmon</td>\n",
              "    </tr>\n",
              "    <tr>\n",
              "      <th>11</th>\n",
              "      <td>5.5-6</td>\n",
              "      <td>3</td>\n",
              "      <td>4</td>\n",
              "      <td>0.655319</td>\n",
              "      <td>0.819149</td>\n",
              "      <td>Seabass</td>\n",
              "    </tr>\n",
              "    <tr>\n",
              "      <th>12</th>\n",
              "      <td>6-6.5</td>\n",
              "      <td>1</td>\n",
              "      <td>6</td>\n",
              "      <td>0.234043</td>\n",
              "      <td>0.819149</td>\n",
              "      <td>Seabass</td>\n",
              "    </tr>\n",
              "    <tr>\n",
              "      <th>13</th>\n",
              "      <td>6.5-7</td>\n",
              "      <td>1</td>\n",
              "      <td>5</td>\n",
              "      <td>0.273050</td>\n",
              "      <td>0.819149</td>\n",
              "      <td>Seabass</td>\n",
              "    </tr>\n",
              "    <tr>\n",
              "      <th>14</th>\n",
              "      <td>7-7.5</td>\n",
              "      <td>0</td>\n",
              "      <td>12</td>\n",
              "      <td>0.063011</td>\n",
              "      <td>0.819149</td>\n",
              "      <td>Seabass</td>\n",
              "    </tr>\n",
              "    <tr>\n",
              "      <th>15</th>\n",
              "      <td>7.5-8</td>\n",
              "      <td>0</td>\n",
              "      <td>9</td>\n",
              "      <td>0.081915</td>\n",
              "      <td>0.819149</td>\n",
              "      <td>Seabass</td>\n",
              "    </tr>\n",
              "    <tr>\n",
              "      <th>16</th>\n",
              "      <td>8-8.5</td>\n",
              "      <td>0</td>\n",
              "      <td>9</td>\n",
              "      <td>0.081915</td>\n",
              "      <td>0.819149</td>\n",
              "      <td>Seabass</td>\n",
              "    </tr>\n",
              "    <tr>\n",
              "      <th>17</th>\n",
              "      <td>8.5-9</td>\n",
              "      <td>0</td>\n",
              "      <td>2</td>\n",
              "      <td>0.273050</td>\n",
              "      <td>0.819149</td>\n",
              "      <td>Seabass</td>\n",
              "    </tr>\n",
              "    <tr>\n",
              "      <th>18</th>\n",
              "      <td>9-9.5</td>\n",
              "      <td>0</td>\n",
              "      <td>1</td>\n",
              "      <td>0.409574</td>\n",
              "      <td>0.819149</td>\n",
              "      <td>Seabass</td>\n",
              "    </tr>\n",
              "    <tr>\n",
              "      <th>19</th>\n",
              "      <td>9.5-10</td>\n",
              "      <td>0</td>\n",
              "      <td>2</td>\n",
              "      <td>0.273050</td>\n",
              "      <td>0.819149</td>\n",
              "      <td>Seabass</td>\n",
              "    </tr>\n",
              "  </tbody>\n",
              "</table>\n",
              "</div>"
            ],
            "text/plain": [
              "   lightness  countSalmon  countSeabass  LikelihoodRatio  Threshold classIkan\n",
              "0      0-0.5            0             0         0.819149   0.819149   Seabass\n",
              "1      0.5-1            2             0         2.457447   0.819149    Salmon\n",
              "2      1-1.5            8             0         7.372340   0.819149    Salmon\n",
              "3      1.5-2            4             0         4.095745   0.819149    Salmon\n",
              "4      2-2.5            7             0         6.553191   0.819149    Salmon\n",
              "5      2.5-3           10             0         9.010638   0.819149    Salmon\n",
              "6      3-3.5           12             0        10.648936   0.819149    Salmon\n",
              "7      3.5-4            8             1         3.686170   0.819149    Salmon\n",
              "8      4-4.5            6             0         5.734043   0.819149    Salmon\n",
              "9      4.5-5            8             3         1.843085   0.819149    Salmon\n",
              "10     5-5.5            4             3         1.023936   0.819149    Salmon\n",
              "11     5.5-6            3             4         0.655319   0.819149   Seabass\n",
              "12     6-6.5            1             6         0.234043   0.819149   Seabass\n",
              "13     6.5-7            1             5         0.273050   0.819149   Seabass\n",
              "14     7-7.5            0            12         0.063011   0.819149   Seabass\n",
              "15     7.5-8            0             9         0.081915   0.819149   Seabass\n",
              "16     8-8.5            0             9         0.081915   0.819149   Seabass\n",
              "17     8.5-9            0             2         0.273050   0.819149   Seabass\n",
              "18     9-9.5            0             1         0.409574   0.819149   Seabass\n",
              "19    9.5-10            0             2         0.273050   0.819149   Seabass"
            ]
          },
          "metadata": {
            "tags": []
          },
          "execution_count": 203
        }
      ]
    },
    {
      "cell_type": "code",
      "metadata": {
        "id": "Ex4VU8fEHjI0",
        "colab_type": "code",
        "colab": {}
      },
      "source": [
        ""
      ],
      "execution_count": null,
      "outputs": []
    }
  ]
}